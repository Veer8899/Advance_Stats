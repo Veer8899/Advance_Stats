{
 "cells": [
  {
   "cell_type": "markdown",
   "id": "5efe27e9-3de3-412a-8585-5b048a45f873",
   "metadata": {},
   "source": [
    "## Q1. What is the Probability density function?\n",
    "\n",
    "#### >It specifies the probability distribution of a continuous random variables.\n",
    "\n",
    "#### PDF satisfies the following properties:\n",
    "##### >Non-negativity: f(x) ≥ 0 for all x in the range of X.\n",
    "##### >Area under the curve"
   ]
  },
  {
   "cell_type": "markdown",
   "id": "121d83eb-160d-4e12-9977-dd071e7985a2",
   "metadata": {},
   "source": [
    "## Q2. What are the types of Probability distribution?"
   ]
  },
  {
   "cell_type": "markdown",
   "id": "2a94b460-a1d0-4fbb-8c1c-0a1503ba991a",
   "metadata": {},
   "source": [
    "#### >> Normal/Gaussian Distribution\n",
    "#### >> Bernouli Distribution\n",
    "#### >> Poisson Distribution \n",
    "#### >> Uniform Distribution\n",
    "#### >> Binomial Distribution\n",
    "#### >> Log Normal DIstribution"
   ]
  },
  {
   "cell_type": "markdown",
   "id": "7df473d6-68ae-47c0-83a2-283635637663",
   "metadata": {},
   "source": [
    "## Q3. Write a Python function to calculate the probability density function of a normal distribution with given mean and standard deviation at a given point."
   ]
  },
  {
   "cell_type": "code",
   "execution_count": 18,
   "id": "a2bdd9bc-cb1f-4b06-b663-a87a419f40e5",
   "metadata": {},
   "outputs": [],
   "source": [
    "from scipy.stats import norm"
   ]
  },
  {
   "cell_type": "code",
   "execution_count": 19,
   "id": "79b130cc-e3f0-423c-b585-3930b22eec98",
   "metadata": {},
   "outputs": [
    {
     "name": "stdout",
     "output_type": "stream",
     "text": [
      "PDF of a Normal distribution =  1.5 is 0.12951759566589174\n"
     ]
    }
   ],
   "source": [
    "def norm_pdf(x, mean, std):\n",
    "    pdf_value = norm.pdf(x, mean, std)\n",
    "    return pdf_value\n",
    "\n",
    "mean = 0.0\n",
    "std = 1.0\n",
    "x = 1.5\n",
    "\n",
    "pdf = norm_pdf(x,mean,std)\n",
    "print(\"PDF of a Normal distribution = \", x, \"is\", pdf)"
   ]
  },
  {
   "cell_type": "markdown",
   "id": "04d9e046-6a72-4ca1-b76f-5016674fdb76",
   "metadata": {},
   "source": [
    "## Q4. What are the properties of Binomial distribution? Give two examples of events where binomial distribution can be applied."
   ]
  },
  {
   "cell_type": "markdown",
   "id": "bcdcb9ca-0f9d-4f73-a2b4-d3ad12502382",
   "metadata": {},
   "source": [
    "### The properties of Binomial distribution are:\n",
    "#### >> Fixed Number of Trials.\n",
    "#### >> Probability Mass Function \n",
    "#### >> Every experiment outcome is binary\n",
    "#### >> These experiment is performed for n terms.\n",
    "#### >> It deals with counting the number of successes, making it a discrete distribution.\n",
    "#### >> The mean and variance can be easily calculated using the number of trials and the probability of success.\n",
    "#### >> Each trial can result in only two outcomes (success or failure)."
   ]
  },
  {
   "cell_type": "markdown",
   "id": "bab0e698-a253-4c08-93cd-2dda95d9492b",
   "metadata": {},
   "source": [
    "### Two examples of events where binomial distribution can be applied."
   ]
  },
  {
   "cell_type": "markdown",
   "id": "c7ca447f-4d1a-4d2e-8af3-1355fc39f8d5",
   "metadata": {},
   "source": [
    "#### >> Tossing a coin 10 times\n",
    "#### >> Quality control in manufacturing( the quality of product is defective or non defective)."
   ]
  },
  {
   "cell_type": "markdown",
   "id": "98e0952b-52fd-45aa-baa4-5944f23c349e",
   "metadata": {},
   "source": [
    "## Q5. Generate a random sample of size 1000 from a binomial distribution with probability of success 0.4 and plot a histogram of the results using matplotlib."
   ]
  },
  {
   "cell_type": "code",
   "execution_count": 3,
   "id": "446f276d-25b3-41ec-addc-9515002f8bdc",
   "metadata": {},
   "outputs": [],
   "source": [
    "import numpy as np \n",
    "import matplotlib.pyplot as plt"
   ]
  },
  {
   "cell_type": "code",
   "execution_count": 14,
   "id": "46baa42c-04ff-4602-bdff-ec3eb35ac9e0",
   "metadata": {},
   "outputs": [
    {
     "data": {
      "image/png": "[encoded data removed]",
      "text/plain": [
       "<Figure size 640x480 with 1 Axes>"
      ]
     },
     "metadata": {},
     "output_type": "display_data"
    }
   ],
   "source": [
    "sample_size = 1000\n",
    "prob_of_success = 0.4\n",
    "\n",
    "\n",
    "random = np.random.binomial(10, prob_of_success,  sample_size)\n",
    "\n",
    "plt.hist(random, bins = np.arange(10+2)-0.5, rwidth=0.8, align='mid', alpha=0.7)\n",
    "plt.xticks(range(10+1))\n",
    "plt.xlabel('Number of Successes')\n",
    "plt.ylabel('Frequency')\n",
    "plt.title(f'Histogram of Random Sample (Binomial Distribution, p={probability_of_success}, n=10)')\n",
    "plt.show()"
   ]
  },
  {
   "cell_type": "markdown",
   "id": "06480301-5c07-440f-9a07-497b390636cd",
   "metadata": {},
   "source": [
    "## Q6. Write a Python function to calculate the cumulative distribution function of a Poisson distribution with given mean at a given point."
   ]
  },
  {
   "cell_type": "code",
   "execution_count": 15,
   "id": "0009a53d-faf9-419a-be7a-39fcb9d7f6d9",
   "metadata": {},
   "outputs": [],
   "source": [
    "from scipy.stats import poisson"
   ]
  },
  {
   "cell_type": "code",
   "execution_count": 16,
   "id": "127c8c77-6751-4f72-bd2b-e622ce9e485a",
   "metadata": {},
   "outputs": [
    {
     "name": "stdout",
     "output_type": "stream",
     "text": [
      "CDF of a Poisson distribution =  2 is 0.12465201948308108\n"
     ]
    }
   ],
   "source": [
    "mean = 5\n",
    "x = 2\n",
    "\n",
    "cdf = poisson.cdf(x, mu = mean)\n",
    "print(\"CDF of a Poisson distribution = \", x, \"is\", cdf)"
   ]
  },
  {
   "cell_type": "markdown",
   "id": "83d21485-a105-4c99-b104-d3967f7fbd5a",
   "metadata": {},
   "source": [
    "## Q7. How Binomial distribution different from Poisson distribution?"
   ]
  },
  {
   "cell_type": "markdown",
   "id": "2cee0a2e-3140-46ed-9c86-e4214a9973d7",
   "metadata": {},
   "source": [
    "### Binomial Distribution : \n",
    "#### >> The Binomial distribution is used to model the number of successes in a fixed number of independent Bernoulli trials.\n",
    "#### >> The Binomial distribution deals with discrete random variables, where the number of possible outcomes is finite and countable \n",
    "#### >> The Binomial distribution involves a fixed number of identical and independent trials, each having a constant probability of success.\n",
    "#### >> The Binomial distribution is characterized by two parameters: the number of trials (n) and the probability of success in each trial (p)."
   ]
  },
  {
   "cell_type": "markdown",
   "id": "df809b56-3949-439b-a9a1-bd74c22bbee5",
   "metadata": {},
   "source": [
    "### Poisson Distribution : \n",
    "\n",
    "#### >> The Poisson distribution is used to model the number of events that occur in a fixed interval of time or space, given a constant average rate of occurrence. \n",
    "#### >> The Poisson distribution is also a discrete distribution, but it allows for an infinite number of possible outcomes \n",
    "#### >> The Poisson distribution deals with an unlimited number of independent events occurring in a fixed interval of time or space, where the events are rare and random.\n",
    "#### >> The Poisson distribution is characterized by a single parameter, the average rate of occurrence (λ), which represents both the mean and the variance."
   ]
  },
  {
   "cell_type": "markdown",
   "id": "1d7f4250-90c7-43b4-8f64-a261ee3d9502",
   "metadata": {},
   "source": [
    "## Q8. Generate a random sample of size 1000 from a Poisson distribution with mean 5 and calculate the sample mean and variance."
   ]
  },
  {
   "cell_type": "code",
   "execution_count": 26,
   "id": "59d503f3-19c8-47d1-acf0-e41fbe1c8d58",
   "metadata": {},
   "outputs": [],
   "source": [
    "import numpy as np"
   ]
  },
  {
   "cell_type": "code",
   "execution_count": 28,
   "id": "ad1fff84-5b0a-4a14-83e2-1cbc6c56ceb0",
   "metadata": {},
   "outputs": [
    {
     "name": "stdout",
     "output_type": "stream",
     "text": [
      "Sample Mean:  5.031\n",
      "Variance :  5.035074074074074\n"
     ]
    }
   ],
   "source": [
    "mean = 5\n",
    "sample_size = 1000\n",
    "\n",
    "\n",
    "random = np.random.poisson(mean, sample_size)\n",
    "\n",
    "sample_mean = np.mean(random)\n",
    "variance = np.var(random, ddof = 1)\n",
    "\n",
    "print(\"Sample Mean: \", sample_mean)\n",
    "print(\"Variance : \", variance)"
   ]
  },
  {
   "cell_type": "markdown",
   "id": "b0da3ec2-887d-455a-89d9-d88dcabc717a",
   "metadata": {},
   "source": [
    "## Q9. How mean and variance are related in Binomial distribution and Poisson distribution?"
   ]
  },
  {
   "cell_type": "markdown",
   "id": "46161545-627e-4818-b688-1a87d27a5daa",
   "metadata": {},
   "source": [
    "### Binomial Distribution:\n",
    "\n",
    "#### >> In a Binomial distribution with parameters \"n\" (number of trials) and \"p\" (probability of success in each trial), the mean (μ) and variance (σ^2) are related as follows:\n",
    "##### Mean (μ) = n * p\n",
    "##### Variance (σ^2) = n * p * (1 - p)\n",
    "#### >> The mean represents the average number of successes in \"n\" independent trials, each with a probability of success \"p.\" The variance represents the spread or variability in the number of successes. As the probability of success \"p\" approaches 0 or 1, the variance decreases because the outcomes become more predictable (either mostly successes or mostly failures)."
   ]
  },
  {
   "cell_type": "markdown",
   "id": "e5b56253-c83b-421c-85c4-bb1f953c379a",
   "metadata": {},
   "source": [
    "### Poisson Distribution:\n",
    "#### >> In a Poisson distribution with a single parameter \"λ\" (average rate of occurrence), the mean (μ) and variance (σ^2) are related as follows:\n",
    "##### Mean (μ) = λ\n",
    "##### Variance (σ^2) = λ\n",
    "#### >> In the Poisson distribution, both the mean and variance are equal to the average rate of occurrence \"λ.\" This is a unique property of the Poisson distribution, and it means that the variability of the data is solely determined by the average rate of events happening in a fixed interval of time or space."
   ]
  },
  {
   "cell_type": "markdown",
   "id": "31e8cbee-df06-4ea9-8505-f0ff780d9fbe",
   "metadata": {},
   "source": [
    "## Q10. In normal distribution with respect to mean position, where does the least frequent data appear?"
   ]
  },
  {
   "cell_type": "markdown",
   "id": "d3652f43-8679-47f3-8697-b6a9b9910269",
   "metadata": {},
   "source": [
    "#### >> The least frequent data appears in the tails of the normal distribution, farthest away from the mean position. "
   ]
  },
  {
   "cell_type": "code",
   "execution_count": null,
   "id": "65e8865e-e969-440b-b225-51827dbeb31d",
   "metadata": {},
   "outputs": [],
   "source": []
  }
 ],
 "metadata": {
  "kernelspec": {
   "display_name": "Python 3 (ipykernel)",
   "language": "python",
   "name": "python3"
  },
  "language_info": {
   "codemirror_mode": {
    "name": "ipython",
    "version": 3
   },
   "file_extension": ".py",
   "mimetype": "text/x-python",
   "name": "python",
   "nbconvert_exporter": "python",
   "pygments_lexer": "ipython3",
   "version": "3.10.8"
  }
 },
 "nbformat": 4,
 "nbformat_minor": 5
}
